{
 "cells": [
  {
   "cell_type": "markdown",
   "metadata": {},
   "source": [
    "### FInding the best model without using plots to custer the iris dataset"
   ]
  },
  {
   "cell_type": "markdown",
   "metadata": {},
   "source": [
    "Initialize and load data in kernel"
   ]
  },
  {
   "cell_type": "code",
   "execution_count": 1,
   "metadata": {
    "collapsed": true
   },
   "outputs": [],
   "source": [
    "rm(list=ls())\n",
    "result<-NULL\n",
    "rawdata<-read.table(\"iris.txt\", header=TRUE)"
   ]
  },
  {
   "cell_type": "markdown",
   "metadata": {},
   "source": [
    "Scaling attributes in iris"
   ]
  },
  {
   "cell_type": "code",
   "execution_count": 2,
   "metadata": {},
   "outputs": [
    {
     "data": {
      "text/html": [
       "<table>\n",
       "<thead><tr><th scope=col>Sepal.Length</th><th scope=col>Sepal.Width</th><th scope=col>Petal.Length</th><th scope=col>Petal.Width</th><th scope=col>Species</th></tr></thead>\n",
       "<tbody>\n",
       "\t<tr><td>0.22222222</td><td>0.6250000 </td><td>0.06779661</td><td>0.04166667</td><td>setosa    </td></tr>\n",
       "\t<tr><td>0.16666667</td><td>0.4166667 </td><td>0.06779661</td><td>0.04166667</td><td>setosa    </td></tr>\n",
       "\t<tr><td>0.11111111</td><td>0.5000000 </td><td>0.05084746</td><td>0.04166667</td><td>setosa    </td></tr>\n",
       "\t<tr><td>0.08333333</td><td>0.4583333 </td><td>0.08474576</td><td>0.04166667</td><td>setosa    </td></tr>\n",
       "\t<tr><td>0.19444444</td><td>0.6666667 </td><td>0.06779661</td><td>0.04166667</td><td>setosa    </td></tr>\n",
       "\t<tr><td>0.30555556</td><td>0.7916667 </td><td>0.11864407</td><td>0.12500000</td><td>setosa    </td></tr>\n",
       "</tbody>\n",
       "</table>\n"
      ],
      "text/latex": [
       "\\begin{tabular}{r|lllll}\n",
       " Sepal.Length & Sepal.Width & Petal.Length & Petal.Width & Species\\\\\n",
       "\\hline\n",
       "\t 0.22222222 & 0.6250000  & 0.06779661 & 0.04166667 & setosa    \\\\\n",
       "\t 0.16666667 & 0.4166667  & 0.06779661 & 0.04166667 & setosa    \\\\\n",
       "\t 0.11111111 & 0.5000000  & 0.05084746 & 0.04166667 & setosa    \\\\\n",
       "\t 0.08333333 & 0.4583333  & 0.08474576 & 0.04166667 & setosa    \\\\\n",
       "\t 0.19444444 & 0.6666667  & 0.06779661 & 0.04166667 & setosa    \\\\\n",
       "\t 0.30555556 & 0.7916667  & 0.11864407 & 0.12500000 & setosa    \\\\\n",
       "\\end{tabular}\n"
      ],
      "text/markdown": [
       "\n",
       "Sepal.Length | Sepal.Width | Petal.Length | Petal.Width | Species | \n",
       "|---|---|---|---|---|---|\n",
       "| 0.22222222 | 0.6250000  | 0.06779661 | 0.04166667 | setosa     | \n",
       "| 0.16666667 | 0.4166667  | 0.06779661 | 0.04166667 | setosa     | \n",
       "| 0.11111111 | 0.5000000  | 0.05084746 | 0.04166667 | setosa     | \n",
       "| 0.08333333 | 0.4583333  | 0.08474576 | 0.04166667 | setosa     | \n",
       "| 0.19444444 | 0.6666667  | 0.06779661 | 0.04166667 | setosa     | \n",
       "| 0.30555556 | 0.7916667  | 0.11864407 | 0.12500000 | setosa     | \n",
       "\n",
       "\n"
      ],
      "text/plain": [
       "  Sepal.Length Sepal.Width Petal.Length Petal.Width Species\n",
       "1 0.22222222   0.6250000   0.06779661   0.04166667  setosa \n",
       "2 0.16666667   0.4166667   0.06779661   0.04166667  setosa \n",
       "3 0.11111111   0.5000000   0.05084746   0.04166667  setosa \n",
       "4 0.08333333   0.4583333   0.08474576   0.04166667  setosa \n",
       "5 0.19444444   0.6666667   0.06779661   0.04166667  setosa \n",
       "6 0.30555556   0.7916667   0.11864407   0.12500000  setosa "
      ]
     },
     "metadata": {},
     "output_type": "display_data"
    }
   ],
   "source": [
    "data<-rawdata\n",
    "\n",
    "for (i in 1:4){\n",
    "  data[,i]<-(rawdata[,i]-min(rawdata[,i]))/(max(rawdata[,i])-min(rawdata[,i]))\n",
    "}\n",
    "head(data)"
   ]
  },
  {
   "cell_type": "markdown",
   "metadata": {},
   "source": [
    "Parsing through number of clusters from 3 to 10 while choosing all combinations of attributes and storing the cluster vs actual classification in table result"
   ]
  },
  {
   "cell_type": "code",
   "execution_count": 3,
   "metadata": {
    "collapsed": true
   },
   "outputs": [],
   "source": [
    "for(k in 1:4){\n",
    "    #k dictatates the number of attributes to choose\n",
    "    #going from 1 to 4 and t has the combinations of\n",
    "    #k attributes choosen\n",
    "    t<-combn(4,k, FUN = NULL, simplify = TRUE)\n",
    "    #i has the number of clusters, going from 3 to 10\n",
    "    for(i in 3:10){\n",
    "        #j-iterates through all combinations of attributes\n",
    "        #and t[,j] has the column number of attributes\n",
    "        for(j in 1:(length(t)/k)){\n",
    "            set.seed(1)\n",
    "            model<-kmeans(data[,t[,j]],i)\n",
    "            result<-rbind(result\n",
    "                          ,cbind(i,paste( unlist(t[,j]), collapse=','),k\n",
    "                                       ,(table(model$cluster, data[,5]))))\n",
    "}}}\n"
   ]
  },
  {
   "cell_type": "code",
   "execution_count": 4,
   "metadata": {},
   "outputs": [
    {
     "data": {
      "text/html": [
       "<table>\n",
       "<thead><tr><th></th><th scope=col>i</th><th scope=col></th><th scope=col>k</th><th scope=col>setosa</th><th scope=col>versicolor</th><th scope=col>virginica</th></tr></thead>\n",
       "<tbody>\n",
       "\t<tr><th scope=row>1</th><td>3 </td><td>1 </td><td>1 </td><td>40</td><td>5 </td><td>1 </td></tr>\n",
       "\t<tr><th scope=row>2</th><td>3 </td><td>1 </td><td>1 </td><td>0 </td><td>14</td><td>37</td></tr>\n",
       "\t<tr><th scope=row>3</th><td>3 </td><td>1 </td><td>1 </td><td>10</td><td>31</td><td>12</td></tr>\n",
       "\t<tr><th scope=row>1</th><td>3 </td><td>2 </td><td>1 </td><td>31</td><td>1 </td><td>5 </td></tr>\n",
       "\t<tr><th scope=row>2</th><td>3 </td><td>2 </td><td>1 </td><td>1 </td><td>27</td><td>19</td></tr>\n",
       "\t<tr><th scope=row>3</th><td>3 </td><td>2 </td><td>1 </td><td>18</td><td>22</td><td>26</td></tr>\n",
       "</tbody>\n",
       "</table>\n"
      ],
      "text/latex": [
       "\\begin{tabular}{r|llllll}\n",
       "  & i &  & k & setosa & versicolor & virginica\\\\\n",
       "\\hline\n",
       "\t1 & 3  & 1  & 1  & 40 & 5  & 1 \\\\\n",
       "\t2 & 3  & 1  & 1  & 0  & 14 & 37\\\\\n",
       "\t3 & 3  & 1  & 1  & 10 & 31 & 12\\\\\n",
       "\t1 & 3  & 2  & 1  & 31 & 1  & 5 \\\\\n",
       "\t2 & 3  & 2  & 1  & 1  & 27 & 19\\\\\n",
       "\t3 & 3  & 2  & 1  & 18 & 22 & 26\\\\\n",
       "\\end{tabular}\n"
      ],
      "text/markdown": [
       "\n",
       "| <!--/--> | i |  | k | setosa | versicolor | virginica | \n",
       "|---|---|---|---|---|---|\n",
       "| 1 | 3  | 1  | 1  | 40 | 5  | 1  | \n",
       "| 2 | 3  | 1  | 1  | 0  | 14 | 37 | \n",
       "| 3 | 3  | 1  | 1  | 10 | 31 | 12 | \n",
       "| 1 | 3  | 2  | 1  | 31 | 1  | 5  | \n",
       "| 2 | 3  | 2  | 1  | 1  | 27 | 19 | \n",
       "| 3 | 3  | 2  | 1  | 18 | 22 | 26 | \n",
       "\n",
       "\n"
      ],
      "text/plain": [
       "  i   k setosa versicolor virginica\n",
       "1 3 1 1 40     5          1        \n",
       "2 3 1 1 0      14         37       \n",
       "3 3 1 1 10     31         12       \n",
       "1 3 2 1 31     1          5        \n",
       "2 3 2 1 1      27         19       \n",
       "3 3 2 1 18     22         26       "
      ]
     },
     "metadata": {},
     "output_type": "display_data"
    }
   ],
   "source": [
    "head(result)"
   ]
  },
  {
   "cell_type": "markdown",
   "metadata": {},
   "source": [
    "In above sample, first column gives the value of k(number of clusters); 2nd column has the attribute chosen, where 1-Sepal.Length, 2-Sepal.Width, 3-Petal.Length, 4-Petal.Width; third column is the number of attributes to be chosen.  \n",
    "Each row depicts a cluster. and the values in columns-4 to 6, show the number of elements of each species within the cluster"
   ]
  },
  {
   "cell_type": "markdown",
   "metadata": {},
   "source": [
    "Converting the result matrix to a dataframe with numeric values in columns 4,5,6"
   ]
  },
  {
   "cell_type": "code",
   "execution_count": 5,
   "metadata": {},
   "outputs": [],
   "source": [
    "result1<- as.data.frame.array(result)\n",
    "\n",
    "\n",
    "result1[,4]<-as.numeric(as.character(result1[,4]))\n",
    "result1[,5]<-as.numeric(as.character(result1[,5]))\n",
    "result1[,6]<-as.numeric(as.character(result1[,6]))\n"
   ]
  },
  {
   "cell_type": "markdown",
   "metadata": {},
   "source": [
    "Since each row is a cluster, I am calculating the accuracy of each cluster as largest classification of points as a single species within cluster divided by total number of points in the cluster.  \n",
    "I am storing the result in 7th column of result1 data frame"
   ]
  },
  {
   "cell_type": "code",
   "execution_count": 6,
   "metadata": {
    "collapsed": true
   },
   "outputs": [],
   "source": [
    "for (i in 1:nrow(result1)){\n",
    "  result1[i,7]<-max(result1[i,4:6])/sum(result1[i,4:6])  \n",
    "}"
   ]
  },
  {
   "cell_type": "code",
   "execution_count": 7,
   "metadata": {},
   "outputs": [
    {
     "data": {
      "text/html": [
       "<table>\n",
       "<thead><tr><th></th><th scope=col>i</th><th scope=col>V2</th><th scope=col>k</th><th scope=col>setosa</th><th scope=col>versicolor</th><th scope=col>virginica</th><th scope=col>V7</th></tr></thead>\n",
       "<tbody>\n",
       "\t<tr><th scope=row>1</th><td>3        </td><td>1        </td><td>1        </td><td>40       </td><td> 5       </td><td> 1       </td><td>0.8695652</td></tr>\n",
       "\t<tr><th scope=row>2</th><td>3        </td><td>1        </td><td>1        </td><td> 0       </td><td>14       </td><td>37       </td><td>0.7254902</td></tr>\n",
       "\t<tr><th scope=row>3</th><td>3        </td><td>1        </td><td>1        </td><td>10       </td><td>31       </td><td>12       </td><td>0.5849057</td></tr>\n",
       "\t<tr><th scope=row>1.1</th><td>3        </td><td>2        </td><td>1        </td><td>31       </td><td> 1       </td><td> 5       </td><td>0.8378378</td></tr>\n",
       "\t<tr><th scope=row>2.1</th><td>3        </td><td>2        </td><td>1        </td><td> 1       </td><td>27       </td><td>19       </td><td>0.5744681</td></tr>\n",
       "\t<tr><th scope=row>3.1</th><td>3        </td><td>2        </td><td>1        </td><td>18       </td><td>22       </td><td>26       </td><td>0.3939394</td></tr>\n",
       "</tbody>\n",
       "</table>\n"
      ],
      "text/latex": [
       "\\begin{tabular}{r|lllllll}\n",
       "  & i & V2 & k & setosa & versicolor & virginica & V7\\\\\n",
       "\\hline\n",
       "\t1 & 3         & 1         & 1         & 40        &  5        &  1        & 0.8695652\\\\\n",
       "\t2 & 3         & 1         & 1         &  0        & 14        & 37        & 0.7254902\\\\\n",
       "\t3 & 3         & 1         & 1         & 10        & 31        & 12        & 0.5849057\\\\\n",
       "\t1.1 & 3         & 2         & 1         & 31        &  1        &  5        & 0.8378378\\\\\n",
       "\t2.1 & 3         & 2         & 1         &  1        & 27        & 19        & 0.5744681\\\\\n",
       "\t3.1 & 3         & 2         & 1         & 18        & 22        & 26        & 0.3939394\\\\\n",
       "\\end{tabular}\n"
      ],
      "text/markdown": [
       "\n",
       "| <!--/--> | i | V2 | k | setosa | versicolor | virginica | V7 | \n",
       "|---|---|---|---|---|---|\n",
       "| 1 | 3         | 1         | 1         | 40        |  5        |  1        | 0.8695652 | \n",
       "| 2 | 3         | 1         | 1         |  0        | 14        | 37        | 0.7254902 | \n",
       "| 3 | 3         | 1         | 1         | 10        | 31        | 12        | 0.5849057 | \n",
       "| 1.1 | 3         | 2         | 1         | 31        |  1        |  5        | 0.8378378 | \n",
       "| 2.1 | 3         | 2         | 1         |  1        | 27        | 19        | 0.5744681 | \n",
       "| 3.1 | 3         | 2         | 1         | 18        | 22        | 26        | 0.3939394 | \n",
       "\n",
       "\n"
      ],
      "text/plain": [
       "    i V2 k setosa versicolor virginica V7       \n",
       "1   3 1  1 40      5          1        0.8695652\n",
       "2   3 1  1  0     14         37        0.7254902\n",
       "3   3 1  1 10     31         12        0.5849057\n",
       "1.1 3 2  1 31      1          5        0.8378378\n",
       "2.1 3 2  1  1     27         19        0.5744681\n",
       "3.1 3 2  1 18     22         26        0.3939394"
      ]
     },
     "metadata": {},
     "output_type": "display_data"
    }
   ],
   "source": [
    "head(result1)"
   ]
  },
  {
   "cell_type": "markdown",
   "metadata": {},
   "source": [
    "Now, to compute accuracy of the model, I had to choose between mean and minimum accuracy of all clusters within the model. I chose minimum as I wanted to choose a model which has all clusters clearly classified  \n",
    "\n",
    "So, I aggrregate result1 by columns i (k in clustering) and V2(attributes chosen) and find the minimum accuracy of cluster within each model. "
   ]
  },
  {
   "cell_type": "code",
   "execution_count": 8,
   "metadata": {
    "collapsed": true
   },
   "outputs": [],
   "source": [
    "aggresult<-aggregate(result1[,c(1,2,3,7)]\n",
    "                     , by=list(result1$i,result1$V2,result1$k)\n",
    "                     , function(x) min(as.character(x)))"
   ]
  },
  {
   "cell_type": "code",
   "execution_count": 9,
   "metadata": {},
   "outputs": [
    {
     "data": {
      "text/html": [
       "<table>\n",
       "<thead><tr><th></th><th scope=col>i</th><th scope=col>V2</th><th scope=col>V7</th></tr></thead>\n",
       "<tbody>\n",
       "\t<tr><th scope=row>26</th><td>3                </td><td>4                </td><td>0.923076923076923</td></tr>\n",
       "\t<tr><th scope=row>27</th><td>4                </td><td>4                </td><td>0.923076923076923</td></tr>\n",
       "\t<tr><th scope=row>74</th><td>3                </td><td>3,4              </td><td>0.923076923076923</td></tr>\n",
       "\t<tr><th scope=row>106</th><td>3                </td><td>2,3,4            </td><td>0.92             </td></tr>\n",
       "\t<tr><th scope=row>119</th><td>8                </td><td>1,2,3,4          </td><td>0.904761904761905</td></tr>\n",
       "\t<tr><th scope=row>28</th><td>5                </td><td>4                </td><td>0.891891891891892</td></tr>\n",
       "\t<tr><th scope=row>53</th><td>6                </td><td>1,4              </td><td>0.888888888888889</td></tr>\n",
       "\t<tr><th scope=row>69</th><td>6                </td><td>2,4              </td><td>0.888888888888889</td></tr>\n",
       "\t<tr><th scope=row>101</th><td>6                </td><td>1,3,4            </td><td>0.888888888888889</td></tr>\n",
       "\t<tr><th scope=row>20</th><td>5                </td><td>3                </td><td>0.885714285714286</td></tr>\n",
       "\t<tr><th scope=row>97</th><td>10               </td><td>1,3,4            </td><td>0.875            </td></tr>\n",
       "\t<tr><th scope=row>102</th><td>7                </td><td>1,3,4            </td><td>0.875            </td></tr>\n",
       "\t<tr><th scope=row>104</th><td>9                </td><td>1,3,4            </td><td>0.875            </td></tr>\n",
       "\t<tr><th scope=row>66</th><td>3                </td><td>2,4              </td><td>0.867924528301887</td></tr>\n",
       "\t<tr><th scope=row>110</th><td>7                </td><td>2,3,4            </td><td>0.857142857142857</td></tr>\n",
       "\t<tr><th scope=row>77</th><td>6                </td><td>3,4              </td><td>0.851851851851852</td></tr>\n",
       "\t<tr><th scope=row>78</th><td>7                </td><td>3,4              </td><td>0.851851851851852</td></tr>\n",
       "\t<tr><th scope=row>109</th><td>6                </td><td>2,3,4            </td><td>0.851851851851852</td></tr>\n",
       "\t<tr><th scope=row>23</th><td>8                </td><td>3                </td><td>0.846153846153846</td></tr>\n",
       "\t<tr><th scope=row>117</th><td>6                </td><td>1,2,3,4          </td><td>0.84             </td></tr>\n",
       "\t<tr><th scope=row>30</th><td>7                </td><td>4                </td><td>0.833333333333333</td></tr>\n",
       "\t<tr><th scope=row>54</th><td>7                </td><td>1,4              </td><td>0.833333333333333</td></tr>\n",
       "\t<tr><th scope=row>49</th><td>10               </td><td>1,4              </td><td>0.823529411764706</td></tr>\n",
       "\t<tr><th scope=row>55</th><td>8                </td><td>1,4              </td><td>0.823529411764706</td></tr>\n",
       "\t<tr><th scope=row>56</th><td>9                </td><td>1,4              </td><td>0.823529411764706</td></tr>\n",
       "\t<tr><th scope=row>25</th><td>10               </td><td>4                </td><td>0.8125           </td></tr>\n",
       "\t<tr><th scope=row>31</th><td>8                </td><td>4                </td><td>0.8125           </td></tr>\n",
       "\t<tr><th scope=row>79</th><td>8                </td><td>3,4              </td><td>0.8              </td></tr>\n",
       "\t<tr><th scope=row>98</th><td>3                </td><td>1,3,4            </td><td>0.786885245901639</td></tr>\n",
       "\t<tr><th scope=row>42</th><td>3                </td><td>1,3              </td><td>0.78             </td></tr>\n",
       "\t<tr><th scope=row>⋮</th><td>⋮</td><td>⋮</td><td>⋮</td></tr>\n",
       "\t<tr><th scope=row>88</th><td>9                </td><td>1,2,3            </td><td>0.545454545454545</td></tr>\n",
       "\t<tr><th scope=row>99</th><td>4                </td><td>1,3,4            </td><td>0.545454545454545</td></tr>\n",
       "\t<tr><th scope=row>100</th><td>5                </td><td>1,3,4            </td><td>0.545454545454545</td></tr>\n",
       "\t<tr><th scope=row>3</th><td>4                </td><td>1                </td><td>0.538461538461538</td></tr>\n",
       "\t<tr><th scope=row>4</th><td>5                </td><td>1                </td><td>0.538461538461538</td></tr>\n",
       "\t<tr><th scope=row>68</th><td>5                </td><td>2,4              </td><td>0.536585365853659</td></tr>\n",
       "\t<tr><th scope=row>111</th><td>8                </td><td>2,3,4            </td><td>0.533333333333333</td></tr>\n",
       "\t<tr><th scope=row>8</th><td>9                </td><td>1                </td><td>0.53125          </td></tr>\n",
       "\t<tr><th scope=row>1</th><td>10               </td><td>1                </td><td>0.526315789473684</td></tr>\n",
       "\t<tr><th scope=row>39</th><td>8                </td><td>1,2              </td><td>0.526315789473684</td></tr>\n",
       "\t<tr><th scope=row>41</th><td>10               </td><td>1,3              </td><td>0.526315789473684</td></tr>\n",
       "\t<tr><th scope=row>47</th><td>8                </td><td>1,3              </td><td>0.526315789473684</td></tr>\n",
       "\t<tr><th scope=row>48</th><td>9                </td><td>1,3              </td><td>0.526315789473684</td></tr>\n",
       "\t<tr><th scope=row>107</th><td>4                </td><td>2,3,4            </td><td>0.525            </td></tr>\n",
       "\t<tr><th scope=row>108</th><td>5                </td><td>2,3,4            </td><td>0.525            </td></tr>\n",
       "\t<tr><th scope=row>67</th><td>4                </td><td>2,4              </td><td>0.523809523809524</td></tr>\n",
       "\t<tr><th scope=row>29</th><td>6                </td><td>4                </td><td>0.5              </td></tr>\n",
       "\t<tr><th scope=row>33</th><td>10               </td><td>1,2              </td><td>0.5              </td></tr>\n",
       "\t<tr><th scope=row>38</th><td>7                </td><td>1,2              </td><td>0.5              </td></tr>\n",
       "\t<tr><th scope=row>63</th><td>8                </td><td>2,3              </td><td>0.5              </td></tr>\n",
       "\t<tr><th scope=row>113</th><td>10               </td><td>1,2,3,4          </td><td>0.5              </td></tr>\n",
       "\t<tr><th scope=row>120</th><td>9                </td><td>1,2,3,4          </td><td>0.5              </td></tr>\n",
       "\t<tr><th scope=row>11</th><td>4                </td><td>2                </td><td>0.440677966101695</td></tr>\n",
       "\t<tr><th scope=row>9</th><td>10               </td><td>2                </td><td>0.432432432432432</td></tr>\n",
       "\t<tr><th scope=row>14</th><td>7                </td><td>2                </td><td>0.421052631578947</td></tr>\n",
       "\t<tr><th scope=row>16</th><td>9                </td><td>2                </td><td>0.4              </td></tr>\n",
       "\t<tr><th scope=row>10</th><td>3                </td><td>2                </td><td>0.393939393939394</td></tr>\n",
       "\t<tr><th scope=row>12</th><td>5                </td><td>2                </td><td>0.382978723404255</td></tr>\n",
       "\t<tr><th scope=row>13</th><td>6                </td><td>2                </td><td>0.382978723404255</td></tr>\n",
       "\t<tr><th scope=row>15</th><td>8                </td><td>2                </td><td>0.375            </td></tr>\n",
       "</tbody>\n",
       "</table>\n"
      ],
      "text/latex": [
       "\\begin{tabular}{r|lll}\n",
       "  & i & V2 & V7\\\\\n",
       "\\hline\n",
       "\t26 & 3                 & 4                 & 0.923076923076923\\\\\n",
       "\t27 & 4                 & 4                 & 0.923076923076923\\\\\n",
       "\t74 & 3                 & 3,4               & 0.923076923076923\\\\\n",
       "\t106 & 3                 & 2,3,4             & 0.92             \\\\\n",
       "\t119 & 8                 & 1,2,3,4           & 0.904761904761905\\\\\n",
       "\t28 & 5                 & 4                 & 0.891891891891892\\\\\n",
       "\t53 & 6                 & 1,4               & 0.888888888888889\\\\\n",
       "\t69 & 6                 & 2,4               & 0.888888888888889\\\\\n",
       "\t101 & 6                 & 1,3,4             & 0.888888888888889\\\\\n",
       "\t20 & 5                 & 3                 & 0.885714285714286\\\\\n",
       "\t97 & 10                & 1,3,4             & 0.875            \\\\\n",
       "\t102 & 7                 & 1,3,4             & 0.875            \\\\\n",
       "\t104 & 9                 & 1,3,4             & 0.875            \\\\\n",
       "\t66 & 3                 & 2,4               & 0.867924528301887\\\\\n",
       "\t110 & 7                 & 2,3,4             & 0.857142857142857\\\\\n",
       "\t77 & 6                 & 3,4               & 0.851851851851852\\\\\n",
       "\t78 & 7                 & 3,4               & 0.851851851851852\\\\\n",
       "\t109 & 6                 & 2,3,4             & 0.851851851851852\\\\\n",
       "\t23 & 8                 & 3                 & 0.846153846153846\\\\\n",
       "\t117 & 6                 & 1,2,3,4           & 0.84             \\\\\n",
       "\t30 & 7                 & 4                 & 0.833333333333333\\\\\n",
       "\t54 & 7                 & 1,4               & 0.833333333333333\\\\\n",
       "\t49 & 10                & 1,4               & 0.823529411764706\\\\\n",
       "\t55 & 8                 & 1,4               & 0.823529411764706\\\\\n",
       "\t56 & 9                 & 1,4               & 0.823529411764706\\\\\n",
       "\t25 & 10                & 4                 & 0.8125           \\\\\n",
       "\t31 & 8                 & 4                 & 0.8125           \\\\\n",
       "\t79 & 8                 & 3,4               & 0.8              \\\\\n",
       "\t98 & 3                 & 1,3,4             & 0.786885245901639\\\\\n",
       "\t42 & 3                 & 1,3               & 0.78             \\\\\n",
       "\t⋮ & ⋮ & ⋮ & ⋮\\\\\n",
       "\t88 & 9                 & 1,2,3             & 0.545454545454545\\\\\n",
       "\t99 & 4                 & 1,3,4             & 0.545454545454545\\\\\n",
       "\t100 & 5                 & 1,3,4             & 0.545454545454545\\\\\n",
       "\t3 & 4                 & 1                 & 0.538461538461538\\\\\n",
       "\t4 & 5                 & 1                 & 0.538461538461538\\\\\n",
       "\t68 & 5                 & 2,4               & 0.536585365853659\\\\\n",
       "\t111 & 8                 & 2,3,4             & 0.533333333333333\\\\\n",
       "\t8 & 9                 & 1                 & 0.53125          \\\\\n",
       "\t1 & 10                & 1                 & 0.526315789473684\\\\\n",
       "\t39 & 8                 & 1,2               & 0.526315789473684\\\\\n",
       "\t41 & 10                & 1,3               & 0.526315789473684\\\\\n",
       "\t47 & 8                 & 1,3               & 0.526315789473684\\\\\n",
       "\t48 & 9                 & 1,3               & 0.526315789473684\\\\\n",
       "\t107 & 4                 & 2,3,4             & 0.525            \\\\\n",
       "\t108 & 5                 & 2,3,4             & 0.525            \\\\\n",
       "\t67 & 4                 & 2,4               & 0.523809523809524\\\\\n",
       "\t29 & 6                 & 4                 & 0.5              \\\\\n",
       "\t33 & 10                & 1,2               & 0.5              \\\\\n",
       "\t38 & 7                 & 1,2               & 0.5              \\\\\n",
       "\t63 & 8                 & 2,3               & 0.5              \\\\\n",
       "\t113 & 10                & 1,2,3,4           & 0.5              \\\\\n",
       "\t120 & 9                 & 1,2,3,4           & 0.5              \\\\\n",
       "\t11 & 4                 & 2                 & 0.440677966101695\\\\\n",
       "\t9 & 10                & 2                 & 0.432432432432432\\\\\n",
       "\t14 & 7                 & 2                 & 0.421052631578947\\\\\n",
       "\t16 & 9                 & 2                 & 0.4              \\\\\n",
       "\t10 & 3                 & 2                 & 0.393939393939394\\\\\n",
       "\t12 & 5                 & 2                 & 0.382978723404255\\\\\n",
       "\t13 & 6                 & 2                 & 0.382978723404255\\\\\n",
       "\t15 & 8                 & 2                 & 0.375            \\\\\n",
       "\\end{tabular}\n"
      ],
      "text/markdown": [
       "\n",
       "| <!--/--> | i | V2 | V7 | \n",
       "|---|---|---|---|---|---|---|---|---|---|---|---|---|---|---|---|---|---|---|---|---|---|---|---|---|---|---|---|---|---|---|---|---|---|---|---|---|---|---|---|---|---|---|---|---|---|---|---|---|---|---|---|---|---|---|---|---|---|---|---|---|\n",
       "| 26 | 3                 | 4                 | 0.923076923076923 | \n",
       "| 27 | 4                 | 4                 | 0.923076923076923 | \n",
       "| 74 | 3                 | 3,4               | 0.923076923076923 | \n",
       "| 106 | 3                 | 2,3,4             | 0.92              | \n",
       "| 119 | 8                 | 1,2,3,4           | 0.904761904761905 | \n",
       "| 28 | 5                 | 4                 | 0.891891891891892 | \n",
       "| 53 | 6                 | 1,4               | 0.888888888888889 | \n",
       "| 69 | 6                 | 2,4               | 0.888888888888889 | \n",
       "| 101 | 6                 | 1,3,4             | 0.888888888888889 | \n",
       "| 20 | 5                 | 3                 | 0.885714285714286 | \n",
       "| 97 | 10                | 1,3,4             | 0.875             | \n",
       "| 102 | 7                 | 1,3,4             | 0.875             | \n",
       "| 104 | 9                 | 1,3,4             | 0.875             | \n",
       "| 66 | 3                 | 2,4               | 0.867924528301887 | \n",
       "| 110 | 7                 | 2,3,4             | 0.857142857142857 | \n",
       "| 77 | 6                 | 3,4               | 0.851851851851852 | \n",
       "| 78 | 7                 | 3,4               | 0.851851851851852 | \n",
       "| 109 | 6                 | 2,3,4             | 0.851851851851852 | \n",
       "| 23 | 8                 | 3                 | 0.846153846153846 | \n",
       "| 117 | 6                 | 1,2,3,4           | 0.84              | \n",
       "| 30 | 7                 | 4                 | 0.833333333333333 | \n",
       "| 54 | 7                 | 1,4               | 0.833333333333333 | \n",
       "| 49 | 10                | 1,4               | 0.823529411764706 | \n",
       "| 55 | 8                 | 1,4               | 0.823529411764706 | \n",
       "| 56 | 9                 | 1,4               | 0.823529411764706 | \n",
       "| 25 | 10                | 4                 | 0.8125            | \n",
       "| 31 | 8                 | 4                 | 0.8125            | \n",
       "| 79 | 8                 | 3,4               | 0.8               | \n",
       "| 98 | 3                 | 1,3,4             | 0.786885245901639 | \n",
       "| 42 | 3                 | 1,3               | 0.78              | \n",
       "| ⋮ | ⋮ | ⋮ | ⋮ | \n",
       "| 88 | 9                 | 1,2,3             | 0.545454545454545 | \n",
       "| 99 | 4                 | 1,3,4             | 0.545454545454545 | \n",
       "| 100 | 5                 | 1,3,4             | 0.545454545454545 | \n",
       "| 3 | 4                 | 1                 | 0.538461538461538 | \n",
       "| 4 | 5                 | 1                 | 0.538461538461538 | \n",
       "| 68 | 5                 | 2,4               | 0.536585365853659 | \n",
       "| 111 | 8                 | 2,3,4             | 0.533333333333333 | \n",
       "| 8 | 9                 | 1                 | 0.53125           | \n",
       "| 1 | 10                | 1                 | 0.526315789473684 | \n",
       "| 39 | 8                 | 1,2               | 0.526315789473684 | \n",
       "| 41 | 10                | 1,3               | 0.526315789473684 | \n",
       "| 47 | 8                 | 1,3               | 0.526315789473684 | \n",
       "| 48 | 9                 | 1,3               | 0.526315789473684 | \n",
       "| 107 | 4                 | 2,3,4             | 0.525             | \n",
       "| 108 | 5                 | 2,3,4             | 0.525             | \n",
       "| 67 | 4                 | 2,4               | 0.523809523809524 | \n",
       "| 29 | 6                 | 4                 | 0.5               | \n",
       "| 33 | 10                | 1,2               | 0.5               | \n",
       "| 38 | 7                 | 1,2               | 0.5               | \n",
       "| 63 | 8                 | 2,3               | 0.5               | \n",
       "| 113 | 10                | 1,2,3,4           | 0.5               | \n",
       "| 120 | 9                 | 1,2,3,4           | 0.5               | \n",
       "| 11 | 4                 | 2                 | 0.440677966101695 | \n",
       "| 9 | 10                | 2                 | 0.432432432432432 | \n",
       "| 14 | 7                 | 2                 | 0.421052631578947 | \n",
       "| 16 | 9                 | 2                 | 0.4               | \n",
       "| 10 | 3                 | 2                 | 0.393939393939394 | \n",
       "| 12 | 5                 | 2                 | 0.382978723404255 | \n",
       "| 13 | 6                 | 2                 | 0.382978723404255 | \n",
       "| 15 | 8                 | 2                 | 0.375             | \n",
       "\n",
       "\n"
      ],
      "text/plain": [
       "    i  V2      V7               \n",
       "26  3  4       0.923076923076923\n",
       "27  4  4       0.923076923076923\n",
       "74  3  3,4     0.923076923076923\n",
       "106 3  2,3,4   0.92             \n",
       "119 8  1,2,3,4 0.904761904761905\n",
       "28  5  4       0.891891891891892\n",
       "53  6  1,4     0.888888888888889\n",
       "69  6  2,4     0.888888888888889\n",
       "101 6  1,3,4   0.888888888888889\n",
       "20  5  3       0.885714285714286\n",
       "97  10 1,3,4   0.875            \n",
       "102 7  1,3,4   0.875            \n",
       "104 9  1,3,4   0.875            \n",
       "66  3  2,4     0.867924528301887\n",
       "110 7  2,3,4   0.857142857142857\n",
       "77  6  3,4     0.851851851851852\n",
       "78  7  3,4     0.851851851851852\n",
       "109 6  2,3,4   0.851851851851852\n",
       "23  8  3       0.846153846153846\n",
       "117 6  1,2,3,4 0.84             \n",
       "30  7  4       0.833333333333333\n",
       "54  7  1,4     0.833333333333333\n",
       "49  10 1,4     0.823529411764706\n",
       "55  8  1,4     0.823529411764706\n",
       "56  9  1,4     0.823529411764706\n",
       "25  10 4       0.8125           \n",
       "31  8  4       0.8125           \n",
       "79  8  3,4     0.8              \n",
       "98  3  1,3,4   0.786885245901639\n",
       "42  3  1,3     0.78             \n",
       "⋮   ⋮  ⋮       ⋮                \n",
       "88  9  1,2,3   0.545454545454545\n",
       "99  4  1,3,4   0.545454545454545\n",
       "100 5  1,3,4   0.545454545454545\n",
       "3   4  1       0.538461538461538\n",
       "4   5  1       0.538461538461538\n",
       "68  5  2,4     0.536585365853659\n",
       "111 8  2,3,4   0.533333333333333\n",
       "8   9  1       0.53125          \n",
       "1   10 1       0.526315789473684\n",
       "39  8  1,2     0.526315789473684\n",
       "41  10 1,3     0.526315789473684\n",
       "47  8  1,3     0.526315789473684\n",
       "48  9  1,3     0.526315789473684\n",
       "107 4  2,3,4   0.525            \n",
       "108 5  2,3,4   0.525            \n",
       "67  4  2,4     0.523809523809524\n",
       "29  6  4       0.5              \n",
       "33  10 1,2     0.5              \n",
       "38  7  1,2     0.5              \n",
       "63  8  2,3     0.5              \n",
       "113 10 1,2,3,4 0.5              \n",
       "120 9  1,2,3,4 0.5              \n",
       "11  4  2       0.440677966101695\n",
       "9   10 2       0.432432432432432\n",
       "14  7  2       0.421052631578947\n",
       "16  9  2       0.4              \n",
       "10  3  2       0.393939393939394\n",
       "12  5  2       0.382978723404255\n",
       "13  6  2       0.382978723404255\n",
       "15  8  2       0.375            "
      ]
     },
     "metadata": {},
     "output_type": "display_data"
    }
   ],
   "source": [
    "aggresult[order(aggresult$V7, decreasing=TRUE),c(4,5,7)]"
   ]
  },
  {
   "cell_type": "markdown",
   "metadata": {},
   "source": [
    "In the data above, i gives the number of clusters to create and V2 gives the attributes to be chosen where  \n",
    "1-Sepal.Length,  \n",
    "2-Sepal.Width  \n",
    "3-Petal.Length  \n",
    "4-Petal.Width"
   ]
  },
  {
   "cell_type": "markdown",
   "metadata": {},
   "source": [
    "** The following values of number of clusters(i) and attributes(V2) give the highest accuracy of clustering **"
   ]
  },
  {
   "cell_type": "code",
   "execution_count": 10,
   "metadata": {
    "scrolled": true
   },
   "outputs": [
    {
     "data": {
      "text/html": [
       "<table>\n",
       "<thead><tr><th></th><th scope=col>i</th><th scope=col>V2</th><th scope=col>V7</th></tr></thead>\n",
       "<tbody>\n",
       "\t<tr><th scope=row>26</th><td>3                </td><td>4                </td><td>0.923076923076923</td></tr>\n",
       "\t<tr><th scope=row>27</th><td>4                </td><td>4                </td><td>0.923076923076923</td></tr>\n",
       "\t<tr><th scope=row>74</th><td>3                </td><td>3,4              </td><td>0.923076923076923</td></tr>\n",
       "\t<tr><th scope=row>106</th><td>3                </td><td>2,3,4            </td><td>0.92             </td></tr>\n",
       "\t<tr><th scope=row>119</th><td>8                </td><td>1,2,3,4          </td><td>0.904761904761905</td></tr>\n",
       "\t<tr><th scope=row>28</th><td>5                </td><td>4                </td><td>0.891891891891892</td></tr>\n",
       "</tbody>\n",
       "</table>\n"
      ],
      "text/latex": [
       "\\begin{tabular}{r|lll}\n",
       "  & i & V2 & V7\\\\\n",
       "\\hline\n",
       "\t26 & 3                 & 4                 & 0.923076923076923\\\\\n",
       "\t27 & 4                 & 4                 & 0.923076923076923\\\\\n",
       "\t74 & 3                 & 3,4               & 0.923076923076923\\\\\n",
       "\t106 & 3                 & 2,3,4             & 0.92             \\\\\n",
       "\t119 & 8                 & 1,2,3,4           & 0.904761904761905\\\\\n",
       "\t28 & 5                 & 4                 & 0.891891891891892\\\\\n",
       "\\end{tabular}\n"
      ],
      "text/markdown": [
       "\n",
       "| <!--/--> | i | V2 | V7 | \n",
       "|---|---|---|---|---|---|\n",
       "| 26 | 3                 | 4                 | 0.923076923076923 | \n",
       "| 27 | 4                 | 4                 | 0.923076923076923 | \n",
       "| 74 | 3                 | 3,4               | 0.923076923076923 | \n",
       "| 106 | 3                 | 2,3,4             | 0.92              | \n",
       "| 119 | 8                 | 1,2,3,4           | 0.904761904761905 | \n",
       "| 28 | 5                 | 4                 | 0.891891891891892 | \n",
       "\n",
       "\n"
      ],
      "text/plain": [
       "    i V2      V7               \n",
       "26  3 4       0.923076923076923\n",
       "27  4 4       0.923076923076923\n",
       "74  3 3,4     0.923076923076923\n",
       "106 3 2,3,4   0.92             \n",
       "119 8 1,2,3,4 0.904761904761905\n",
       "28  5 4       0.891891891891892"
      ]
     },
     "metadata": {},
     "output_type": "display_data"
    }
   ],
   "source": [
    "head(aggresult[order(aggresult$V7, decreasing=TRUE),c(4,5,7)])"
   ]
  },
  {
   "cell_type": "markdown",
   "metadata": {},
   "source": [
    "To check some good and bad models based on clustering"
   ]
  },
  {
   "cell_type": "markdown",
   "metadata": {},
   "source": [
    "### Examples of Good models"
   ]
  },
  {
   "cell_type": "markdown",
   "metadata": {},
   "source": [
    "number of clusters(i)=3, attributes(V2)=4(Petal.Width)"
   ]
  },
  {
   "cell_type": "code",
   "execution_count": 11,
   "metadata": {},
   "outputs": [
    {
     "data": {
      "text/plain": [
       "   \n",
       "    setosa versicolor virginica\n",
       "  1     50          0         0\n",
       "  2      0         48         4\n",
       "  3      0          2        46"
      ]
     },
     "metadata": {},
     "output_type": "display_data"
    }
   ],
   "source": [
    "set.seed(1)\n",
    "model<-kmeans(data[,c(4)],3)\n",
    "\n",
    "table(model$cluster, data[,5])"
   ]
  },
  {
   "cell_type": "markdown",
   "metadata": {},
   "source": [
    "Number of clusters(i)=8, Attributes(V2)=1,2,3,4(Sepal.Length,Sepal.Width,Petal.Length,Petal.Width)"
   ]
  },
  {
   "cell_type": "code",
   "execution_count": 12,
   "metadata": {},
   "outputs": [
    {
     "data": {
      "text/plain": [
       "   \n",
       "    setosa versicolor virginica\n",
       "  1     28          0         0\n",
       "  2      0         22         2\n",
       "  3      0          2        19\n",
       "  4      0         14         1\n",
       "  5     22          0         0\n",
       "  6      0          0        11\n",
       "  7      0          0        16\n",
       "  8      0         12         1"
      ]
     },
     "metadata": {},
     "output_type": "display_data"
    }
   ],
   "source": [
    "set.seed(1)\n",
    "model<-kmeans(data[,c(1,2,3,4)],8)\n",
    "\n",
    "table(model$cluster, data[,5])"
   ]
  },
  {
   "cell_type": "markdown",
   "metadata": {},
   "source": [
    "In the above model,  \n",
    "Cluster 1 and 5 would be Setosa  \n",
    "Cluster 2,4 and 8 would be versicolor  \n",
    "Cluster 3,6 and 7 would be virginica"
   ]
  },
  {
   "cell_type": "markdown",
   "metadata": {},
   "source": [
    "### examples of bad models"
   ]
  },
  {
   "cell_type": "code",
   "execution_count": 13,
   "metadata": {},
   "outputs": [
    {
     "data": {
      "text/html": [
       "<table>\n",
       "<thead><tr><th></th><th scope=col>i</th><th scope=col>V2</th><th scope=col>V7</th></tr></thead>\n",
       "<tbody>\n",
       "\t<tr><th scope=row>113</th><td>10               </td><td>1,2,3,4          </td><td>0.5              </td></tr>\n",
       "\t<tr><th scope=row>120</th><td>9                </td><td>1,2,3,4          </td><td>0.5              </td></tr>\n",
       "\t<tr><th scope=row>11</th><td>4                </td><td>2                </td><td>0.440677966101695</td></tr>\n",
       "\t<tr><th scope=row>9</th><td>10               </td><td>2                </td><td>0.432432432432432</td></tr>\n",
       "\t<tr><th scope=row>14</th><td>7                </td><td>2                </td><td>0.421052631578947</td></tr>\n",
       "\t<tr><th scope=row>16</th><td>9                </td><td>2                </td><td>0.4              </td></tr>\n",
       "\t<tr><th scope=row>10</th><td>3                </td><td>2                </td><td>0.393939393939394</td></tr>\n",
       "\t<tr><th scope=row>12</th><td>5                </td><td>2                </td><td>0.382978723404255</td></tr>\n",
       "\t<tr><th scope=row>13</th><td>6                </td><td>2                </td><td>0.382978723404255</td></tr>\n",
       "\t<tr><th scope=row>15</th><td>8                </td><td>2                </td><td>0.375            </td></tr>\n",
       "</tbody>\n",
       "</table>\n"
      ],
      "text/latex": [
       "\\begin{tabular}{r|lll}\n",
       "  & i & V2 & V7\\\\\n",
       "\\hline\n",
       "\t113 & 10                & 1,2,3,4           & 0.5              \\\\\n",
       "\t120 & 9                 & 1,2,3,4           & 0.5              \\\\\n",
       "\t11 & 4                 & 2                 & 0.440677966101695\\\\\n",
       "\t9 & 10                & 2                 & 0.432432432432432\\\\\n",
       "\t14 & 7                 & 2                 & 0.421052631578947\\\\\n",
       "\t16 & 9                 & 2                 & 0.4              \\\\\n",
       "\t10 & 3                 & 2                 & 0.393939393939394\\\\\n",
       "\t12 & 5                 & 2                 & 0.382978723404255\\\\\n",
       "\t13 & 6                 & 2                 & 0.382978723404255\\\\\n",
       "\t15 & 8                 & 2                 & 0.375            \\\\\n",
       "\\end{tabular}\n"
      ],
      "text/markdown": [
       "\n",
       "| <!--/--> | i | V2 | V7 | \n",
       "|---|---|---|---|---|---|---|---|---|---|\n",
       "| 113 | 10                | 1,2,3,4           | 0.5               | \n",
       "| 120 | 9                 | 1,2,3,4           | 0.5               | \n",
       "| 11 | 4                 | 2                 | 0.440677966101695 | \n",
       "| 9 | 10                | 2                 | 0.432432432432432 | \n",
       "| 14 | 7                 | 2                 | 0.421052631578947 | \n",
       "| 16 | 9                 | 2                 | 0.4               | \n",
       "| 10 | 3                 | 2                 | 0.393939393939394 | \n",
       "| 12 | 5                 | 2                 | 0.382978723404255 | \n",
       "| 13 | 6                 | 2                 | 0.382978723404255 | \n",
       "| 15 | 8                 | 2                 | 0.375             | \n",
       "\n",
       "\n"
      ],
      "text/plain": [
       "    i  V2      V7               \n",
       "113 10 1,2,3,4 0.5              \n",
       "120 9  1,2,3,4 0.5              \n",
       "11  4  2       0.440677966101695\n",
       "9   10 2       0.432432432432432\n",
       "14  7  2       0.421052631578947\n",
       "16  9  2       0.4              \n",
       "10  3  2       0.393939393939394\n",
       "12  5  2       0.382978723404255\n",
       "13  6  2       0.382978723404255\n",
       "15  8  2       0.375            "
      ]
     },
     "metadata": {},
     "output_type": "display_data"
    }
   ],
   "source": [
    "tail(aggresult[order(aggresult$V7, decreasing=TRUE),c(4,5,7)],n=10)"
   ]
  },
  {
   "cell_type": "markdown",
   "metadata": {},
   "source": [
    "Number of clusters(i)=3, Attribute(V2)=2(Sepal.Width)"
   ]
  },
  {
   "cell_type": "code",
   "execution_count": 14,
   "metadata": {},
   "outputs": [
    {
     "data": {
      "text/plain": [
       "   \n",
       "    setosa versicolor virginica\n",
       "  1     31          1         5\n",
       "  2      1         27        19\n",
       "  3     18         22        26"
      ]
     },
     "metadata": {},
     "output_type": "display_data"
    }
   ],
   "source": [
    "set.seed(1)\n",
    "model<-kmeans(data[,c(2)],3)\n",
    "\n",
    "table(model$cluster, data[,5])"
   ]
  }
 ],
 "metadata": {
  "kernelspec": {
   "display_name": "R",
   "language": "R",
   "name": "ir"
  },
  "language_info": {
   "codemirror_mode": "r",
   "file_extension": ".r",
   "mimetype": "text/x-r-source",
   "name": "R",
   "pygments_lexer": "r",
   "version": "3.4.2"
  }
 },
 "nbformat": 4,
 "nbformat_minor": 2
}
